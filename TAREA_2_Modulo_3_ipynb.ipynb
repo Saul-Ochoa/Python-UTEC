{
  "cells": [
    {
      "attachments": {},
      "cell_type": "markdown",
      "metadata": {
        "colab_type": "text",
        "id": "view-in-github"
      },
      "source": [
        "<a href=\"https://colab.research.google.com/github/Saul-Ochoa/Python-UTEC/blob/main/TAREA_2_Modulo_3_ipynb.ipynb\" target=\"_parent\"><img src=\"https://colab.research.google.com/assets/colab-badge.svg\" alt=\"Open In Colab\"/></a>"
      ]
    },
    {
      "attachments": {},
      "cell_type": "markdown",
      "metadata": {
        "id": "loXRodjEUvv3"
      },
      "source": [
        "# Tarea 2\n",
        "Autor Saúl Kevin Ochoa Salazar\n",
        "\n",
        "* En ambas preguntas puede generar 10 escenarios posibles y comentar sus resultados."
      ]
    },
    {
      "attachments": {},
      "cell_type": "markdown",
      "metadata": {
        "id": "zpbkw2DKVIUi"
      },
      "source": [
        "## Preguna 1"
      ]
    },
    {
      "attachments": {},
      "cell_type": "markdown",
      "metadata": {
        "id": "NjsjUW5gUyQU"
      },
      "source": [
        "**OCURRENCIAS (VARIABLE DISCRETA – POISSON)**\n",
        "\n",
        "El número promedio de clientes que recibe un banco es de 50 por hora.\n",
        "\n",
        "1. ¿Cuántas personas llegaran a lo largo de cuatro horas?\n",
        "\n",
        "2. ¿Si el máximo de personas que puede atender en un día en el banco es de 570 personas, cuantas horas habrán pasado hasta llegar a su límite?\n"
      ]
    },
    {
      "cell_type": "code",
      "execution_count": 6,
      "metadata": {
        "colab": {
          "base_uri": "https://localhost:8080/"
        },
        "id": "weOq4sV3VwcV",
        "outputId": "021798ca-2a1a-4419-e828-ec3dab81da3e"
      },
      "outputs": [
        {
          "name": "stdout",
          "output_type": "stream",
          "text": [
            "1. Número de personas llegadas en 4 horas: 201\n",
            "2. Horas para llegar al límite de personas atendidas: 12\n",
            "\n",
            "10 Escenarios posibles:\n",
            "Escenario 1: Número de personas en 4 horas: 192\n",
            "Escenario 2: Número de personas en 4 horas: 196\n",
            "Escenario 3: Número de personas en 4 horas: 169\n",
            "Escenario 4: Número de personas en 4 horas: 203\n",
            "Escenario 5: Número de personas en 4 horas: 201\n",
            "Escenario 6: Número de personas en 4 horas: 209\n",
            "Escenario 7: Número de personas en 4 horas: 200\n",
            "Escenario 8: Número de personas en 4 horas: 199\n",
            "Escenario 9: Número de personas en 4 horas: 197\n",
            "Escenario 10: Número de personas en 4 horas: 209\n"
          ]
        }
      ],
      "source": [
        "import numpy as np\n",
        "\n",
        "def generar_escenarios_poisson(lam, n):\n",
        "    escenarios = []\n",
        "    for _ in range(n):\n",
        "        num_personas = np.random.poisson(lam, size=4).sum()\n",
        "        escenarios.append(num_personas)\n",
        "    return escenarios\n",
        "\n",
        "def horas_para_limite(lam, limite):\n",
        "    horas = 0\n",
        "    num_personas = 0\n",
        "    while num_personas <= limite:\n",
        "        num_personas += np.random.poisson(lam)\n",
        "        horas += 1\n",
        "    return horas\n",
        "\n",
        "# Escenario 1: Número de personas llegadas en 4 horas\n",
        "lam = 50  # Promedio de clientes por hora\n",
        "num_personas_4_horas = np.random.poisson(lam, size=4).sum()\n",
        "print(\"1. Número de personas llegadas en 4 horas:\", num_personas_4_horas)\n",
        "\n",
        "# Escenario 2: Horas para llegar al límite de personas atendidas\n",
        "limite_personas = 570\n",
        "horas_limite = horas_para_limite(lam, limite_personas)\n",
        "print(\"2. Horas para llegar al límite de personas atendidas:\", horas_limite)\n",
        "\n",
        "# Generar 10 escenarios posibles\n",
        "escenarios = generar_escenarios_poisson(lam, 10)\n",
        "print(\"\\n10 Escenarios posibles:\")\n",
        "for i, escenario in enumerate(escenarios):\n",
        "    print(f\"Escenario {i+1}: Número de personas en 4 horas:\", escenario)\n",
        "\n"
      ]
    },
    {
      "attachments": {},
      "cell_type": "markdown",
      "metadata": {
        "id": "Ga4q3Dpfop_s"
      },
      "source": [
        "## Pregunta 2"
      ]
    },
    {
      "attachments": {},
      "cell_type": "markdown",
      "metadata": {
        "id": "VnIhwaKgo2fp"
      },
      "source": [
        "**TIEMPO DE ESPERA (VARIABLE CONTINUAS - UNIFORME)**\n",
        "\n",
        "En tiempo de atención en minutos de una persona en un banco sigue una variable continua uniforme de extremos 5 y 10. Responda las siguientes preguntas:\n",
        "\n",
        "1. ¿Si el banco dispone de 8 ventanillas de atención, puede atender a 600 personas en ocho horas?\n",
        "2. Si al capacitar al personal, el tiempo de atención en minutos mejora y ahora es una variable continua uniforme de extremos 4 y 8, ¿se logra atender a las 600 personas con las 8 ventanillas de atención?"
      ]
    },
    {
      "cell_type": "code",
      "execution_count": 5,
      "metadata": {
        "colab": {
          "base_uri": "https://localhost:8080/"
        },
        "id": "TrpTqK68BKiB",
        "outputId": "5a39834d-359c-426c-a0d9-2751ef1283fe"
      },
      "outputs": [
        {
          "name": "stdout",
          "output_type": "stream",
          "text": [
            "Pregunta 1: ¿Si el banco dispone de 8 ventanillas de atención, puede atender a 600 personas en ocho horas?\n",
            "Escenario 1: Se atendieron 416 personas en 8 horas\n",
            "Escenario 2: Se atendieron 416 personas en 8 horas\n",
            "Escenario 3: Se atendieron 408 personas en 8 horas\n",
            "Escenario 4: Se atendieron 408 personas en 8 horas\n",
            "Escenario 5: Se atendieron 416 personas en 8 horas\n",
            "Escenario 6: Se atendieron 408 personas en 8 horas\n",
            "Escenario 7: Se atendieron 408 personas en 8 horas\n",
            "Escenario 8: Se atendieron 408 personas en 8 horas\n",
            "Escenario 9: Se atendieron 416 personas en 8 horas\n",
            "Escenario 10: Se atendieron 416 personas en 8 horas\n",
            "\n",
            "Pregunta2 :Si al capacitar al personal, el tiempo de atención en minutos mejora y ahora es una variable continua uniforme de extremos 4 y 8\n",
            "¿Se logra atender a las 600 personas con las 8 ventanillas de atención?\n",
            "Escenario 1: Se atendieron 512 personas en 8 horas\n",
            "Escenario 2: Se atendieron 504 personas en 8 horas\n",
            "Escenario 3: Se atendieron 512 personas en 8 horas\n",
            "Escenario 4: Se atendieron 512 personas en 8 horas\n",
            "Escenario 5: Se atendieron 504 personas en 8 horas\n",
            "Escenario 6: Se atendieron 512 personas en 8 horas\n",
            "Escenario 7: Se atendieron 512 personas en 8 horas\n",
            "Escenario 8: Se atendieron 520 personas en 8 horas\n",
            "Escenario 9: Se atendieron 512 personas en 8 horas\n",
            "Escenario 10: Se atendieron 520 personas en 8 horas\n"
          ]
        }
      ],
      "source": [
        "import random\n",
        "\n",
        "def generar_escenarios(ventanillas, tiempo, extremo_inferior, extremo_superior, escenarios):\n",
        "    personas_atendidas_totales = []\n",
        "    for _ in range(escenarios):\n",
        "        personas_atendidas = 0\n",
        "        tiempo_total = 0\n",
        "        while tiempo_total < tiempo and personas_atendidas < 600:\n",
        "            tiempo_atencion = [random.uniform(extremo_inferior, extremo_superior) for _ in range(ventanillas)]\n",
        "            tiempo_total += max(tiempo_atencion)\n",
        "            personas_atendidas += ventanillas\n",
        "        personas_atendidas_totales.append(personas_atendidas)\n",
        "    return personas_atendidas_totales\n",
        "\n",
        "# Configuración de los escenarios\n",
        "escenarios = 10\n",
        "ventanillas = 8\n",
        "tiempo_ocho_horas = 8 * 60  # Convertir horas a minutos\n",
        "extremo_inferior_1 = 5\n",
        "extremo_superior_1 = 10\n",
        "extremo_inferior_2=4\n",
        "extremo_superior_2=8\n",
        "print(\"Pregunta 1: ¿Si el banco dispone de 8 ventanillas de atención, puede atender a 600 personas en ocho horas?\")\n",
        "for i in range(escenarios):\n",
        "    personas_atendidas = generar_escenarios(ventanillas, tiempo_ocho_horas, extremo_inferior_1, extremo_superior_1, escenarios)\n",
        "    resultado = f\"Escenario {i+1}: Se atendieron {personas_atendidas[i]} personas en 8 horas\"\n",
        "    print(resultado)\n",
        "\n",
        "print(\"\\nPregunta2 :Si al capacitar al personal, el tiempo de atención en minutos mejora y ahora es una variable continua uniforme de extremos 4 y 8\")\n",
        "print(\"¿Se logra atender a las 600 personas con las 8 ventanillas de atención?\")\n",
        "\n",
        "for i in range(escenarios):\n",
        "  personas_atendidas=generar_escenarios(ventanillas,tiempo_ocho_horas,extremo_inferior_2,extremo_superior_2,escenarios)\n",
        "  resultado=f\"Escenario {i+1}: Se atendieron {personas_atendidas[i]} personas en 8 horas\"\n",
        "  print(resultado)\n"
      ]
    },
    {
      "attachments": {},
      "cell_type": "markdown",
      "metadata": {
        "id": "Y6ehQpQ3DM88"
      },
      "source": [
        "**En ninguno de los 2 casos logra atender a 600 personas en 8 horas.**"
      ]
    }
  ],
  "metadata": {
    "colab": {
      "authorship_tag": "ABX9TyPTGkGxbWnBDeIAcR8/dw1q",
      "include_colab_link": true,
      "provenance": []
    },
    "kernelspec": {
      "display_name": "Python 3",
      "name": "python3"
    },
    "language_info": {
      "codemirror_mode": {
        "name": "ipython",
        "version": 3
      },
      "file_extension": ".py",
      "mimetype": "text/x-python",
      "name": "python",
      "nbconvert_exporter": "python",
      "pygments_lexer": "ipython3",
      "version": "3.11.2"
    }
  },
  "nbformat": 4,
  "nbformat_minor": 0
}
