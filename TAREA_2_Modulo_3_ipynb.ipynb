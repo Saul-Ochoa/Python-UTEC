{
  "nbformat": 4,
  "nbformat_minor": 0,
  "metadata": {
    "colab": {
      "provenance": [],
      "authorship_tag": "ABX9TyPTGkGxbWnBDeIAcR8/dw1q",
      "include_colab_link": true
    },
    "kernelspec": {
      "name": "python3",
      "display_name": "Python 3"
    },
    "language_info": {
      "name": "python"
    }
  },
  "cells": [
    {
      "cell_type": "markdown",
      "metadata": {
        "id": "view-in-github",
        "colab_type": "text"
      },
      "source": [
        "<a href=\"https://colab.research.google.com/github/Saul-Ochoa/Python-UTEC/blob/main/TAREA_2_Modulo_3_ipynb.ipynb\" target=\"_parent\"><img src=\"https://colab.research.google.com/assets/colab-badge.svg\" alt=\"Open In Colab\"/></a>"
      ]
    },
    {
      "cell_type": "markdown",
      "source": [
        "# Tarea 2\n",
        "Autor Saúl Kevin Ochoa Salazar\n",
        "\n",
        "* En ambas preguntas puede generar 10 escenarios posibles y comentar sus resultados."
      ],
      "metadata": {
        "id": "loXRodjEUvv3"
      }
    },
    {
      "cell_type": "markdown",
      "source": [
        "## Preguna 1"
      ],
      "metadata": {
        "id": "zpbkw2DKVIUi"
      }
    },
    {
      "cell_type": "markdown",
      "source": [
        "**OCURRENCIAS (VARIABLE DISCRETA – POISSON)**\n",
        "\n",
        "El número promedio de clientes que recibe un banco es de 50 por hora.\n",
        "\n",
        "1. ¿Cuántas personas llegaran a lo largo de cuatro horas?\n",
        "\n",
        "2. ¿Si el máximo de personas que puede atender en un día en el banco es de 570 personas, cuantas horas habrán pasado hasta llegar a su límite?\n"
      ],
      "metadata": {
        "id": "NjsjUW5gUyQU"
      }
    },
    {
      "cell_type": "code",
      "source": [
        "import random\n",
        "import math\n",
        "import numpy as np\n",
        "\n",
        "tasa_llegada=50  #numero de cliente es de 50 por hora\n",
        "semilla=10\n",
        "def escenario_1(tasa_llegada,tiempo):\n",
        "  cliente_totales=0\n",
        "  horas=0\n",
        "  while cliente_totales<=tiempo:\n",
        "    horas+=1\n",
        "    clientes=np.random.poisson(tasa_llegada)\n",
        "    cliente_totales += clientes\n",
        "    if cliente_totales>=tiempo:\n",
        "      break #se termina la simulacion\n",
        "  return horas\n",
        "\n",
        "tiempo_cuarto=4*60 # tiempo en minutos\n",
        "print(\"Pregunta 1 : ¿Cuántas personas llegaran a lo largo de cuatro horas? \")\n",
        "\n",
        "print(\"\\nGenerdor de Escenarios\")\n",
        "print(\"\")\n",
        "for i in range(semilla):\n",
        "  horas=escenario_1(tasa_llegada,tiempo_cuarto)\n",
        "  print(f\"Escenario {i+1} : {horas} horas\")\n",
        "\n",
        "print(\"\\nPregunta 2 : ¿Si el máximo de personas que puede atender en un día en el banco es de 570 personas, cuantas horas habrán pasado hasta llegar a su límite?\")\n",
        "print(\"\\nAnalisis de los resultados:\")\n",
        "tiempo_limite=570\n",
        "horas_limite = escenario_1(tasa_llegada, tiempo_limite)\n",
        "\n",
        "print(f\"Horas para llegar al límite de {tiempo_limite} personas: {horas_limite} horas\")\n"
      ],
      "metadata": {
        "colab": {
          "base_uri": "https://localhost:8080/"
        },
        "id": "weOq4sV3VwcV",
        "outputId": "021798ca-2a1a-4419-e828-ec3dab81da3e"
      },
      "execution_count": 18,
      "outputs": [
        {
          "output_type": "stream",
          "name": "stdout",
          "text": [
            "Pregunta 1 : ¿Cuántas personas llegaran a lo largo de cuatro horas? \n",
            "\n",
            "Generdor de Escenarios\n",
            "\n",
            "Escenario 1 : 5 horas\n",
            "Escenario 2 : 5 horas\n",
            "Escenario 3 : 6 horas\n",
            "Escenario 4 : 5 horas\n",
            "Escenario 5 : 5 horas\n",
            "Escenario 6 : 5 horas\n",
            "Escenario 7 : 5 horas\n",
            "Escenario 8 : 6 horas\n",
            "Escenario 9 : 5 horas\n",
            "Escenario 10 : 5 horas\n",
            "\n",
            "Pregunta 2 : ¿Si el máximo de personas que puede atender en un día en el banco es de 570 personas, cuantas horas habrán pasado hasta llegar a su límite?\n",
            "\n",
            "Analisis de los resultados:\n",
            "Horas para llegar al límite de 570 personas: 11 horas\n"
          ]
        }
      ]
    },
    {
      "cell_type": "markdown",
      "source": [
        "## Pregunta 2"
      ],
      "metadata": {
        "id": "Ga4q3Dpfop_s"
      }
    },
    {
      "cell_type": "markdown",
      "source": [
        "**TIEMPO DE ESPERA (VARIABLE CONTINUAS - UNIFORME)**\n",
        "\n",
        "En tiempo de atención en minutos de una persona en un banco sigue una variable continua uniforme de extremos 5 y 10. Responda las siguientes preguntas:\n",
        "\n",
        "1. ¿Si el banco dispone de 8 ventanillas de atención, puede atender a 600 personas en ocho horas?\n",
        "2. Si al capacitar al personal, el tiempo de atención en minutos mejora y ahora es una variable continua uniforme de extremos 4 y 8, ¿se logra atender a las 600 personas con las 8 ventanillas de atención?"
      ],
      "metadata": {
        "id": "VnIhwaKgo2fp"
      }
    },
    {
      "cell_type": "code",
      "source": [
        "import random\n",
        "\n",
        "def generar_escenarios(ventanillas, tiempo, extremo_inferior, extremo_superior, escenarios):\n",
        "    personas_atendidas_totales = []\n",
        "    for _ in range(escenarios):\n",
        "        personas_atendidas = 0\n",
        "        tiempo_total = 0\n",
        "        while tiempo_total < tiempo and personas_atendidas < 600:\n",
        "            tiempo_atencion = [random.uniform(extremo_inferior, extremo_superior) for _ in range(ventanillas)]\n",
        "            tiempo_total += max(tiempo_atencion)\n",
        "            personas_atendidas += ventanillas\n",
        "        personas_atendidas_totales.append(personas_atendidas)\n",
        "    return personas_atendidas_totales\n",
        "\n",
        "# Configuración de los escenarios\n",
        "escenarios = 10\n",
        "ventanillas = 8\n",
        "tiempo_ocho_horas = 8 * 60  # Convertir horas a minutos\n",
        "extremo_inferior_1 = 5\n",
        "extremo_superior_1 = 10\n",
        "extremo_inferior_2=4\n",
        "extremo_superior_2=8\n",
        "print(\"Pregunta 1: ¿Si el banco dispone de 8 ventanillas de atención, puede atender a 600 personas en ocho horas?\")\n",
        "for i in range(escenarios):\n",
        "    personas_atendidas = generar_escenarios(ventanillas, tiempo_ocho_horas, extremo_inferior_1, extremo_superior_1, escenarios)\n",
        "    resultado = f\"Escenario {i+1}: Se atendieron {personas_atendidas[i]} personas en 8 horas\"\n",
        "    print(resultado)\n",
        "\n",
        "print(\"\\nPregunta2 :Si al capacitar al personal, el tiempo de atención en minutos mejora y ahora es una variable continua uniforme de extremos 4 y 8\")\n",
        "print(\"¿Se logra atender a las 600 personas con las 8 ventanillas de atención?\")\n",
        "\n",
        "for i in range(escenarios):\n",
        "  personas_atendidas=generar_escenarios(ventanillas,tiempo_ocho_horas,extremo_inferior_2,extremo_superior_2,escenarios)\n",
        "  resultado=f\"Escenario {i+1}: Se atendieron {personas_atendidas[i]} personas en 8 horas\"\n",
        "  print(resultado)\n"
      ],
      "metadata": {
        "colab": {
          "base_uri": "https://localhost:8080/"
        },
        "id": "TrpTqK68BKiB",
        "outputId": "5a39834d-359c-426c-a0d9-2751ef1283fe"
      },
      "execution_count": 6,
      "outputs": [
        {
          "output_type": "stream",
          "name": "stdout",
          "text": [
            "Pregunta 1: ¿Si el banco dispone de 8 ventanillas de atención, puede atender a 600 personas en ocho horas?\n",
            "Escenario 1: Se atendieron 408 personas en 8 horas\n",
            "Escenario 2: Se atendieron 408 personas en 8 horas\n",
            "Escenario 3: Se atendieron 408 personas en 8 horas\n",
            "Escenario 4: Se atendieron 408 personas en 8 horas\n",
            "Escenario 5: Se atendieron 408 personas en 8 horas\n",
            "Escenario 6: Se atendieron 408 personas en 8 horas\n",
            "Escenario 7: Se atendieron 408 personas en 8 horas\n",
            "Escenario 8: Se atendieron 408 personas en 8 horas\n",
            "Escenario 9: Se atendieron 408 personas en 8 horas\n",
            "Escenario 10: Se atendieron 408 personas en 8 horas\n",
            "\n",
            "Pregunta2 :Si al capacitar al personal, el tiempo de atención en minutos mejora y ahora es una variable continua uniforme de extremos 4 y 8\n",
            "¿Se logra atender a las 600 personas con las 8 ventanillas de atención?\n",
            "Escenario 1: Se atendieron 504 personas en 8 horas\n",
            "Escenario 2: Se atendieron 512 personas en 8 horas\n",
            "Escenario 3: Se atendieron 512 personas en 8 horas\n",
            "Escenario 4: Se atendieron 512 personas en 8 horas\n",
            "Escenario 5: Se atendieron 512 personas en 8 horas\n",
            "Escenario 6: Se atendieron 512 personas en 8 horas\n",
            "Escenario 7: Se atendieron 512 personas en 8 horas\n",
            "Escenario 8: Se atendieron 512 personas en 8 horas\n",
            "Escenario 9: Se atendieron 512 personas en 8 horas\n",
            "Escenario 10: Se atendieron 512 personas en 8 horas\n"
          ]
        }
      ]
    },
    {
      "cell_type": "markdown",
      "source": [
        "En ninguno de los 2 casos logra atender a 600 personas en 8 horas."
      ],
      "metadata": {
        "id": "Y6ehQpQ3DM88"
      }
    }
  ]
}