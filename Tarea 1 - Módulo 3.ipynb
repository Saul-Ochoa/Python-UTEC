{
 "cells": [
  {
   "attachments": {},
   "cell_type": "markdown",
   "metadata": {},
   "source": [
    "# **Tarea 1 - Módulo 3: PROGRAMA DE ESPECIALIZACIÓN EN PROGRAMACIÓN PYTHON 2023-I**"
   ]
  },
  {
   "attachments": {},
   "cell_type": "markdown",
   "metadata": {},
   "source": [
    "Con los datos presentados en el archivo Metales.xlsx (el cual presenta la cantidad extraída de ciertos metales por año en el Perú), responda las siguientes preguntas:\n",
    "\n",
    "* ¿Cuál es el promedio de oro extraído entre los años 2000-2022?\n",
    "* ¿Cuánto es la cantidad máxima de plata extraída en un año y en qué año ocurrió?\n",
    "* ¿Cuánto es la cantidad mínima de cobre extraída en un año y en qué año ocurrió?\n",
    "* ¿Cuánto es la cantidad total de cobre extraído entre los años 2000-2022?\n",
    "* ¿Cuál es el promedio de oro extraído entre los años 2010-2022?"
   ]
  },
  {
   "attachments": {},
   "cell_type": "markdown",
   "metadata": {},
   "source": [
    "Enlace de Github **https://github.com/Saul-Ochoa/Python-UTEC/blob/main/Tarea%201%20-%20M%C3%B3dulo%203.ipynb**"
   ]
  },
  {
   "cell_type": "code",
   "execution_count": 23,
   "metadata": {},
   "outputs": [],
   "source": [
    "import pandas as pd\n",
    "import numpy as np\n",
    "import matplotlib.pyplot as plt\n",
    "import seaborn as sns\n",
    "import plotly.express as px"
   ]
  },
  {
   "cell_type": "code",
   "execution_count": 24,
   "metadata": {},
   "outputs": [
    {
     "data": {
      "text/html": [
       "<div>\n",
       "<style scoped>\n",
       "    .dataframe tbody tr th:only-of-type {\n",
       "        vertical-align: middle;\n",
       "    }\n",
       "\n",
       "    .dataframe tbody tr th {\n",
       "        vertical-align: top;\n",
       "    }\n",
       "\n",
       "    .dataframe thead th {\n",
       "        text-align: right;\n",
       "    }\n",
       "</style>\n",
       "<table border=\"1\" class=\"dataframe\">\n",
       "  <thead>\n",
       "    <tr style=\"text-align: right;\">\n",
       "      <th></th>\n",
       "      <th>AÑO</th>\n",
       "      <th>COBRE(TMF)</th>\n",
       "      <th>ORO(KG)</th>\n",
       "      <th>ZINC(TMF)</th>\n",
       "      <th>PLATA(KG)</th>\n",
       "      <th>PLOMO(TMF)</th>\n",
       "    </tr>\n",
       "  </thead>\n",
       "  <tbody>\n",
       "    <tr>\n",
       "      <th>0</th>\n",
       "      <td>2000</td>\n",
       "      <td>5.539240e+05</td>\n",
       "      <td>132585.078000</td>\n",
       "      <td>9.103030e+05</td>\n",
       "      <td>2.437706e+06</td>\n",
       "      <td>270576.000000</td>\n",
       "    </tr>\n",
       "    <tr>\n",
       "      <th>1</th>\n",
       "      <td>2001</td>\n",
       "      <td>7.223553e+05</td>\n",
       "      <td>138522.109261</td>\n",
       "      <td>1.056629e+06</td>\n",
       "      <td>2.571114e+06</td>\n",
       "      <td>289546.066107</td>\n",
       "    </tr>\n",
       "    <tr>\n",
       "      <th>2</th>\n",
       "      <td>2002</td>\n",
       "      <td>8.445529e+05</td>\n",
       "      <td>157529.918536</td>\n",
       "      <td>1.232997e+06</td>\n",
       "      <td>2.869639e+06</td>\n",
       "      <td>305650.719513</td>\n",
       "    </tr>\n",
       "    <tr>\n",
       "      <th>3</th>\n",
       "      <td>2003</td>\n",
       "      <td>8.426051e+05</td>\n",
       "      <td>172624.629844</td>\n",
       "      <td>1.373792e+06</td>\n",
       "      <td>2.923686e+06</td>\n",
       "      <td>309163.882190</td>\n",
       "    </tr>\n",
       "    <tr>\n",
       "      <th>4</th>\n",
       "      <td>2004</td>\n",
       "      <td>1.035574e+06</td>\n",
       "      <td>173223.817386</td>\n",
       "      <td>1.209006e+06</td>\n",
       "      <td>3.059817e+06</td>\n",
       "      <td>306210.777938</td>\n",
       "    </tr>\n",
       "  </tbody>\n",
       "</table>\n",
       "</div>"
      ],
      "text/plain": [
       "    AÑO    COBRE(TMF)        ORO(KG)     ZINC(TMF)     PLATA(KG)  \\\n",
       "0  2000  5.539240e+05  132585.078000  9.103030e+05  2.437706e+06   \n",
       "1  2001  7.223553e+05  138522.109261  1.056629e+06  2.571114e+06   \n",
       "2  2002  8.445529e+05  157529.918536  1.232997e+06  2.869639e+06   \n",
       "3  2003  8.426051e+05  172624.629844  1.373792e+06  2.923686e+06   \n",
       "4  2004  1.035574e+06  173223.817386  1.209006e+06  3.059817e+06   \n",
       "\n",
       "      PLOMO(TMF)  \n",
       "0  270576.000000  \n",
       "1  289546.066107  \n",
       "2  305650.719513  \n",
       "3  309163.882190  \n",
       "4  306210.777938  "
      ]
     },
     "execution_count": 24,
     "metadata": {},
     "output_type": "execute_result"
    }
   ],
   "source": [
    "url='Metales.xlsx'\n",
    "df=pd.read_excel(url)\n",
    "df=pd.DataFrame(df)\n",
    "df.head()"
   ]
  },
  {
   "cell_type": "code",
   "execution_count": 25,
   "metadata": {},
   "outputs": [
    {
     "data": {
      "text/html": [
       "<div>\n",
       "<style scoped>\n",
       "    .dataframe tbody tr th:only-of-type {\n",
       "        vertical-align: middle;\n",
       "    }\n",
       "\n",
       "    .dataframe tbody tr th {\n",
       "        vertical-align: top;\n",
       "    }\n",
       "\n",
       "    .dataframe thead th {\n",
       "        text-align: right;\n",
       "    }\n",
       "</style>\n",
       "<table border=\"1\" class=\"dataframe\">\n",
       "  <thead>\n",
       "    <tr style=\"text-align: right;\">\n",
       "      <th></th>\n",
       "      <th>AÑO</th>\n",
       "      <th>COBRE(TMF)</th>\n",
       "      <th>ORO(KG)</th>\n",
       "      <th>ZINC(TMF)</th>\n",
       "      <th>PLATA(KG)</th>\n",
       "      <th>PLOMO(TMF)</th>\n",
       "    </tr>\n",
       "  </thead>\n",
       "  <tbody>\n",
       "    <tr>\n",
       "      <th>18</th>\n",
       "      <td>2018</td>\n",
       "      <td>2.416881e+06</td>\n",
       "      <td>125933.914437</td>\n",
       "      <td>1.471846e+06</td>\n",
       "      <td>3.999990e+06</td>\n",
       "      <td>288796.225296</td>\n",
       "    </tr>\n",
       "    <tr>\n",
       "      <th>19</th>\n",
       "      <td>2019</td>\n",
       "      <td>2.437925e+06</td>\n",
       "      <td>113586.028971</td>\n",
       "      <td>1.382753e+06</td>\n",
       "      <td>3.706760e+06</td>\n",
       "      <td>307020.883105</td>\n",
       "    </tr>\n",
       "    <tr>\n",
       "      <th>20</th>\n",
       "      <td>2020</td>\n",
       "      <td>2.153952e+06</td>\n",
       "      <td>85172.522941</td>\n",
       "      <td>1.334570e+06</td>\n",
       "      <td>2.768240e+06</td>\n",
       "      <td>241547.913040</td>\n",
       "    </tr>\n",
       "    <tr>\n",
       "      <th>21</th>\n",
       "      <td>2021</td>\n",
       "      <td>2.329886e+06</td>\n",
       "      <td>97189.981930</td>\n",
       "      <td>1.533135e+06</td>\n",
       "      <td>3.375645e+06</td>\n",
       "      <td>264426.507050</td>\n",
       "    </tr>\n",
       "    <tr>\n",
       "      <th>22</th>\n",
       "      <td>2022</td>\n",
       "      <td>2.445110e+06</td>\n",
       "      <td>96739.874550</td>\n",
       "      <td>1.369649e+06</td>\n",
       "      <td>3.083036e+06</td>\n",
       "      <td>255442.997159</td>\n",
       "    </tr>\n",
       "  </tbody>\n",
       "</table>\n",
       "</div>"
      ],
      "text/plain": [
       "     AÑO    COBRE(TMF)        ORO(KG)     ZINC(TMF)     PLATA(KG)  \\\n",
       "18  2018  2.416881e+06  125933.914437  1.471846e+06  3.999990e+06   \n",
       "19  2019  2.437925e+06  113586.028971  1.382753e+06  3.706760e+06   \n",
       "20  2020  2.153952e+06   85172.522941  1.334570e+06  2.768240e+06   \n",
       "21  2021  2.329886e+06   97189.981930  1.533135e+06  3.375645e+06   \n",
       "22  2022  2.445110e+06   96739.874550  1.369649e+06  3.083036e+06   \n",
       "\n",
       "       PLOMO(TMF)  \n",
       "18  288796.225296  \n",
       "19  307020.883105  \n",
       "20  241547.913040  \n",
       "21  264426.507050  \n",
       "22  255442.997159  "
      ]
     },
     "execution_count": 25,
     "metadata": {},
     "output_type": "execute_result"
    }
   ],
   "source": [
    "df.tail()"
   ]
  },
  {
   "cell_type": "code",
   "execution_count": 26,
   "metadata": {},
   "outputs": [
    {
     "name": "stdout",
     "output_type": "stream",
     "text": [
      "<class 'pandas.core.frame.DataFrame'>\n",
      "RangeIndex: 23 entries, 0 to 22\n",
      "Data columns (total 6 columns):\n",
      " #   Column      Non-Null Count  Dtype  \n",
      "---  ------      --------------  -----  \n",
      " 0   AÑO         23 non-null     int64  \n",
      " 1   COBRE(TMF)  23 non-null     float64\n",
      " 2   ORO(KG)     23 non-null     float64\n",
      " 3   ZINC(TMF)   23 non-null     float64\n",
      " 4   PLATA(KG)   23 non-null     float64\n",
      " 5   PLOMO(TMF)  23 non-null     float64\n",
      "dtypes: float64(5), int64(1)\n",
      "memory usage: 1.2 KB\n"
     ]
    }
   ],
   "source": [
    "df.info()"
   ]
  },
  {
   "attachments": {},
   "cell_type": "markdown",
   "metadata": {},
   "source": [
    "## ¿Cuál es el promedio de oro extraído entre los años 2000-2022?"
   ]
  },
  {
   "cell_type": "code",
   "execution_count": 27,
   "metadata": {},
   "outputs": [
    {
     "data": {
      "text/plain": [
       "Index(['AÑO', 'COBRE(TMF)', 'ORO(KG)', 'ZINC(TMF)', 'PLATA(KG)', 'PLOMO(TMF)'], dtype='object')"
      ]
     },
     "execution_count": 27,
     "metadata": {},
     "output_type": "execute_result"
    }
   ],
   "source": [
    "df.columns"
   ]
  },
  {
   "cell_type": "code",
   "execution_count": 28,
   "metadata": {},
   "outputs": [
    {
     "name": "stdout",
     "output_type": "stream",
     "text": [
      "el promedio de oro extraído entre los años 2000-2022 es 148425.5\n"
     ]
    }
   ],
   "source": [
    "df_filtrar=df[(df['AÑO']>=2000) & (df['AÑO']<=2022)]\n",
    "prom_oro=df_filtrar['ORO(KG)'].mean()\n",
    "prom_oro\n",
    "print(f\"el promedio de oro extraído entre los años 2000-2022 es {prom_oro.round(2)}\")"
   ]
  },
  {
   "cell_type": "code",
   "execution_count": 29,
   "metadata": {},
   "outputs": [
    {
     "name": "stdout",
     "output_type": "stream",
     "text": [
      "el promedio de oro extraído entre los años 2000-2022 es 148425.5\n"
     ]
    }
   ],
   "source": [
    "promedio_oro=df['ORO(KG)'].mean()\n",
    "promedio_oro\n",
    "print(f\"el promedio de oro extraído entre los años 2000-2022 es {promedio_oro.round(2)}\")"
   ]
  },
  {
   "attachments": {},
   "cell_type": "markdown",
   "metadata": {},
   "source": [
    "## ¿Cuánto es la cantidad máxima de plata extraída en un año y en qué año ocurrió?"
   ]
  },
  {
   "cell_type": "code",
   "execution_count": 30,
   "metadata": {},
   "outputs": [
    {
     "data": {
      "text/plain": [
       "4329179.762906653"
      ]
     },
     "execution_count": 30,
     "metadata": {},
     "output_type": "execute_result"
    }
   ],
   "source": [
    "max_plata=df['PLATA(KG)'].max()\n",
    "max_plata"
   ]
  },
  {
   "cell_type": "code",
   "execution_count": 31,
   "metadata": {},
   "outputs": [
    {
     "data": {
      "text/plain": [
       "2016"
      ]
     },
     "execution_count": 31,
     "metadata": {},
     "output_type": "execute_result"
    }
   ],
   "source": [
    "año_max_plata=df.loc[df['PLATA(KG)']== max_plata,'AÑO'].iloc[0]\n",
    "año_max_plata"
   ]
  },
  {
   "cell_type": "code",
   "execution_count": 32,
   "metadata": {},
   "outputs": [
    {
     "name": "stdout",
     "output_type": "stream",
     "text": [
      "La cantidad máxima de plata extraída fue de 4329179.7629 kg en el año 2016\n"
     ]
    }
   ],
   "source": [
    "print(f\"La cantidad máxima de plata extraída fue de {max_plata.round(4)} kg en el año {año_max_plata.round(4)}\")"
   ]
  },
  {
   "attachments": {},
   "cell_type": "markdown",
   "metadata": {},
   "source": [
    "## ¿Cuánto es la cantidad mínima de cobre extraída en un año y en qué año ocurrió?"
   ]
  },
  {
   "cell_type": "code",
   "execution_count": 33,
   "metadata": {},
   "outputs": [
    {
     "data": {
      "text/plain": [
       "553924.0"
      ]
     },
     "execution_count": 33,
     "metadata": {},
     "output_type": "execute_result"
    }
   ],
   "source": [
    "min_cobre=df['COBRE(TMF)'].min()\n",
    "min_cobre"
   ]
  },
  {
   "cell_type": "code",
   "execution_count": 34,
   "metadata": {},
   "outputs": [
    {
     "data": {
      "text/plain": [
       "2000"
      ]
     },
     "execution_count": 34,
     "metadata": {},
     "output_type": "execute_result"
    }
   ],
   "source": [
    "año_min_cobre=df.loc[df['COBRE(TMF)']== min_cobre,'AÑO'].iloc[0]\n",
    "año_min_cobre"
   ]
  },
  {
   "cell_type": "code",
   "execution_count": 35,
   "metadata": {},
   "outputs": [
    {
     "name": "stdout",
     "output_type": "stream",
     "text": [
      "La cantidad minima de cobre extraída fue de 553924.0 kg en el año 2000\n"
     ]
    }
   ],
   "source": [
    "print(f\"La cantidad minima de cobre extraída fue de {min_cobre.round(2)} kg en el año {año_min_cobre}\")"
   ]
  },
  {
   "attachments": {},
   "cell_type": "markdown",
   "metadata": {},
   "source": [
    "## ¿Cuánto es la cantidad total de cobre extraído entre los años 2000-2022?"
   ]
  },
  {
   "cell_type": "code",
   "execution_count": 36,
   "metadata": {},
   "outputs": [
    {
     "data": {
      "text/plain": [
       "34581879.337"
      ]
     },
     "execution_count": 36,
     "metadata": {},
     "output_type": "execute_result"
    }
   ],
   "source": [
    "df_filtrar=df[(df['AÑO']>=2000) & (df['AÑO']<=2022)]\n",
    "sum_cobre=df_filtrar['COBRE(TMF)'].sum()\n",
    "sum_cobre.round(4)"
   ]
  },
  {
   "cell_type": "code",
   "execution_count": 37,
   "metadata": {},
   "outputs": [
    {
     "name": "stdout",
     "output_type": "stream",
     "text": [
      "la cantidad  de total de cobre extraído entre los años 2000-2022 es 34581879.337\n"
     ]
    }
   ],
   "source": [
    "df['COBRE(TMF)'].sum().round(4)\n",
    "print(f\"la cantidad  de total de cobre extraído entre los años 2000-2022 es {sum_cobre.round(4)}\")"
   ]
  },
  {
   "attachments": {},
   "cell_type": "markdown",
   "metadata": {},
   "source": [
    "## ¿Cuál es el promedio de oro extraído entre los años 2010-2022?"
   ]
  },
  {
   "cell_type": "code",
   "execution_count": 38,
   "metadata": {},
   "outputs": [
    {
     "name": "stdout",
     "output_type": "stream",
     "text": [
      "El promedio de oro extraido entre los años 2010-2022 es 148425.5\n"
     ]
    }
   ],
   "source": [
    "df_filtrar=df[(df['AÑO']>=2010) & (df['AÑO']<=2022)]\n",
    "promedio_oro_oro=df_filtrar['ORO(KG)'].sum()\n",
    "promedio_oro.round(4)\n",
    "\n",
    "print(f\"El promedio de oro extraido entre los años 2010-2022 es {promedio_oro.round(2)}\")"
   ]
  }
 ],
 "metadata": {
  "kernelspec": {
   "display_name": "Python 3",
   "language": "python",
   "name": "python3"
  },
  "language_info": {
   "codemirror_mode": {
    "name": "ipython",
    "version": 3
   },
   "file_extension": ".py",
   "mimetype": "text/x-python",
   "name": "python",
   "nbconvert_exporter": "python",
   "pygments_lexer": "ipython3",
   "version": "3.11.2"
  },
  "orig_nbformat": 4
 },
 "nbformat": 4,
 "nbformat_minor": 2
}
