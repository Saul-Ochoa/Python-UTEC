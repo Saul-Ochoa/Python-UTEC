{
 "cells": [
  {
   "attachments": {},
   "cell_type": "markdown",
   "metadata": {},
   "source": [
    "# Caso 1 Peluquera"
   ]
  },
  {
   "attachments": {},
   "cell_type": "markdown",
   "metadata": {},
   "source": [
    "* Pregunta 1\n",
    "\n",
    "Programa que simula una linea de espera\n",
    "una peluqueria tiene un peluquero  que se demora entre 15 y 30 minutos \n",
    "por corte. La peluqueria recibe un promedio 3 clientes por hora (es decir \n",
    ". uno 20 minutos). Se desea simular las llegadas  y servicios de 5 clientes"
   ]
  },
  {
   "cell_type": "code",
   "execution_count": 41,
   "metadata": {},
   "outputs": [],
   "source": [
    "import random\n",
    "import simpy\n",
    "import math\n",
    "num_peluqueros=1\n",
    "tiempo_corte_min=15\n",
    "tiempo_corte_max=30\n",
    "tiempo_llegada_minutos=20\n",
    "total_clientes=5\n",
    "semilla=30\n",
    "te=0.0 #timpo de estima total\n",
    "dt=0.0 #duracion de servicio\n",
    "fin=0.0 #minuto que finaliza\n",
    "\n",
    "#primer procedimiento\n",
    "\n",
    "def cortar(cliente):\n",
    "  global dt\n",
    "  R=random.random()\n",
    "  tiempo=tiempo_corte_max - tiempo_corte_min\n",
    "  tiempo_corte= tiempo_corte_min + (tiempo*R) #distribucion uniforme\n",
    "  yield env.timeout(tiempo_corte)\n",
    "  print(\"\\o/ Corte listo a %s en %.2f minutos\" %(cliente,tiempo_corte))\n",
    "  dt=dt + tiempo_corte #Acumular los tiempos de usos de la simulacion\n",
    "\n",
    "\n",
    "def cliente(env,name,personal):\n",
    "  global te\n",
    "  global fin\n",
    "  llega=env.now #guardar el minuto de llegada del cliente\n",
    "  print(\"--> %s llego a la peluqueria en el minuto %2.f\" %(name,llega))\n",
    "  with personal.request() as request: #espera turno\n",
    "    yield request #obtener turno\n",
    "    pasa=env.now #guarda el minuto cuando comienza a ser atendido\n",
    "    espera=pasa-llega\n",
    "    te=te+espera #acumulado del tiempo de espera\n",
    "    print(\"%s Pasa con peluquero en el minuto %.2f habiendo esperado %.2f\" %(name,pasa,espera))\n",
    "    yield env.process(cortar(name)) #llamamos a l funcion cortar\n",
    "    deja=env.now #guarda el minuto en que termina el proceso\n",
    "    print(\"<--%s deja la peluqueria en minuto %.2f\" %(name,deja))\n",
    "    fin=deja #conserva ultimo minuto de la simulacion\n",
    "\n",
    "def principal(env,personal):\n",
    "  llegada=0\n",
    "  i=0\n",
    "  for i in range(total_clientes):\n",
    "    R=random.random()\n",
    "    llegada=-tiempo_llegada_minutos*math.log(R) #sigue una distribucion expotencial\n",
    "    yield env.timeout(llegada) #dejo transcurrir un tiempo entre un cliente y otro\n",
    "    i+=1\n",
    "    env.process(cliente(env,'Cliente %d' % i ,personal))"
   ]
  },
  {
   "cell_type": "code",
   "execution_count": 42,
   "metadata": {},
   "outputs": [
    {
     "name": "stdout",
     "output_type": "stream",
     "text": [
      "Simulacion peluqueria\n",
      "--> Cliente 1 llego a la peluqueria en el minuto 12\n",
      "Cliente 1 Pasa con peluquero en el minuto 12.36 habiendo esperado 0.00\n",
      "\\o/ Corte listo a Cliente 1 en 15.45 minutos\n",
      "<--Cliente 1 deja la peluqueria en minuto 27.81\n",
      "--> Cliente 2 llego a la peluqueria en el minuto 37\n",
      "Cliente 2 Pasa con peluquero en el minuto 37.17 habiendo esperado 0.00\n",
      "--> Cliente 3 llego a la peluqueria en el minuto 46\n",
      "\\o/ Corte listo a Cliente 2 en 18.15 minutos\n",
      "<--Cliente 2 deja la peluqueria en minuto 55.32\n",
      "Cliente 3 Pasa con peluquero en el minuto 55.32 habiendo esperado 9.65\n",
      "--> Cliente 4 llego a la peluqueria en el minuto 73\n",
      "\\o/ Corte listo a Cliente 3 en 20.96 minutos\n",
      "<--Cliente 3 deja la peluqueria en minuto 76.28\n",
      "Cliente 4 Pasa con peluquero en el minuto 76.28 habiendo esperado 3.45\n",
      "--> Cliente 5 llego a la peluqueria en el minuto 82\n",
      "\\o/ Corte listo a Cliente 4 en 29.83 minutos\n",
      "<--Cliente 4 deja la peluqueria en minuto 106.11\n",
      "Cliente 5 Pasa con peluquero en el minuto 106.11 habiendo esperado 24.41\n",
      "\\o/ Corte listo a Cliente 5 en 21.92 minutos\n",
      "<--Cliente 5 deja la peluqueria en minuto 128.03\n"
     ]
    }
   ],
   "source": [
    "#Simulacion peluqueria \n",
    "print(\"Simulacion peluqueria\")\n",
    "random.seed(semilla)\n",
    "env=simpy.Environment() #creo el entorno de simulacion\n",
    "personal=simpy.Resource(env,num_peluqueros) #crea los recursos  peluqueros\n",
    "env.process(principal(env,personal))\n",
    "env.run() #iniciar simulacion\n"
   ]
  },
  {
   "cell_type": "code",
   "execution_count": 43,
   "metadata": {},
   "outputs": [
    {
     "name": "stdout",
     "output_type": "stream",
     "text": [
      "Indicadores obtenidos\n",
      "\n",
      "La longitud promedio de la cola: 0.29\n",
      "TIempo de espera promedio: 7.50\n",
      "Uso promedio de la instalacion: 0.83\n"
     ]
    }
   ],
   "source": [
    "\n",
    "#salidas\n",
    "print(\"Indicadores obtenidos\")\n",
    "print(\"\")\n",
    "lpc=te/fin #logintud promedio de la cola\n",
    "print(\"La longitud promedio de la cola: %.2f\" % lpc)\n",
    "tep=te/total_clientes\n",
    "print(\"TIempo de espera promedio: %.2f\" % tep)\n",
    "upi=(dt/fin)/num_peluqueros\n",
    "print(\"Uso promedio de la instalacion: %.2f\" % upi)"
   ]
  }
 ],
 "metadata": {
  "kernelspec": {
   "display_name": "Python 3",
   "language": "python",
   "name": "python3"
  },
  "language_info": {
   "codemirror_mode": {
    "name": "ipython",
    "version": 3
   },
   "file_extension": ".py",
   "mimetype": "text/x-python",
   "name": "python",
   "nbconvert_exporter": "python",
   "pygments_lexer": "ipython3",
   "version": "3.11.2"
  },
  "orig_nbformat": 4
 },
 "nbformat": 4,
 "nbformat_minor": 2
}
