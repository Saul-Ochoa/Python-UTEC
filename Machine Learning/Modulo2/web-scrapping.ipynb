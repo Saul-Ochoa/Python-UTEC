{
 "cells": [
  {
   "cell_type": "markdown",
   "metadata": {},
   "source": [
    "# **Web of Scrapping**"
   ]
  },
  {
   "cell_type": "code",
   "execution_count": 50,
   "metadata": {},
   "outputs": [],
   "source": [
    "# Importar las librerias\n",
    "import re\n",
    "import colorama\n",
    "from colorama import Fore\n",
    "import requests\n",
    "import numpy as np\n",
    "import pandas as pd"
   ]
  },
  {
   "cell_type": "code",
   "execution_count": 44,
   "metadata": {},
   "outputs": [
    {
     "name": "stdout",
     "output_type": "stream",
     "text": [
      "['11 Jul 2022', '3 Nov 2021', '2 Nov 2021', '4 Nov 2021', '27 Oct 2021', '22 Oct 2021', '21 Oct 2021', '21 Oct 2021', '16 Oct 2021', '25 Sep 2021', '22 Sep 2021', '22 Sep 2021']\n"
     ]
    }
   ],
   "source": [
    "from bs4 import BeautifulSoup\n",
    "url='https://www.vulnhub.com/'\n",
    "resultado=requests.get(url)\n",
    "content=resultado.text\n",
    "# Crear un objeto BeautifulSoup\n",
    "soup = BeautifulSoup(content, 'html.parser')\n",
    "card_dates=soup.find_all('div',class_='card-date')\n",
    "fechas=[]\n",
    "for card_date in card_dates:\n",
    "    fecha_texto=card_date.a.get_text(strip=True)\n",
    "    fechas.append(fecha_texto)\n",
    "print(fechas)"
   ]
  },
  {
   "cell_type": "code",
   "execution_count": 41,
   "metadata": {},
   "outputs": [
    {
     "name": "stdout",
     "output_type": "stream",
     "text": [
      "['Matrix-Breakout: 2 Morpheus', 'Web Machine: (N7)', 'The Planets: Earth', 'Jangow: 1.0.1', 'Red: 1', 'Napping: 1.0.1', 'Empire: Breakout', 'Empire: LupinOne', 'Thales: 1', 'ICA: 1', 'digitalworld.local: electrical', 'Noob: 1']\n"
     ]
    }
   ],
   "source": [
    "from bs4 import BeautifulSoup\n",
    "url='https://www.vulnhub.com/'\n",
    "resultado=requests.get(url)\n",
    "content=resultado.text\n",
    "# Crear un objeto BeautifulSoup\n",
    "soup = BeautifulSoup(content, 'html.parser')\n",
    "card_titles=soup.find_all('div',class_='card-title')\n",
    "titulo=[]\n",
    "for card_title in card_titles:\n",
    "    titulo_texto=card_title.a.get_text(strip=True)\n",
    "    titulo.append(titulo_texto)\n",
    "print(titulo)"
   ]
  },
  {
   "cell_type": "code",
   "execution_count": 54,
   "metadata": {},
   "outputs": [
    {
     "name": "stdout",
     "output_type": "stream",
     "text": [
      "['Jay Beale', 'Duty Mastr', 'SirFlash', 'Jangow', 'hadrian3689', 'hadrian3689', 'icex64 & Empire Cybersecurity', 'icex64 & Empire Cybersecurity', 'MachineBoy', 'onurturali', 'Donavan', 'VIEH Group']\n"
     ]
    }
   ],
   "source": [
    "from bs4 import BeautifulSoup\n",
    "url='https://www.vulnhub.com/'\n",
    "resultado=requests.get(url)\n",
    "content=resultado.text\n",
    "# Crear un objeto BeautifulSoup\n",
    "soup = BeautifulSoup(content, 'html.parser')\n",
    "card_autors=soup.find_all('div',class_='card-author')\n",
    "autor=[]\n",
    "for card_autor in card_autors:\n",
    "    autor_texto=card_autor.a.get_text(strip=True)\n",
    "    autor.append(autor_texto)\n",
    "print(autor)"
   ]
  },
  {
   "cell_type": "code",
   "execution_count": 55,
   "metadata": {},
   "outputs": [
    {
     "data": {
      "text/html": [
       "<div>\n",
       "<style scoped>\n",
       "    .dataframe tbody tr th:only-of-type {\n",
       "        vertical-align: middle;\n",
       "    }\n",
       "\n",
       "    .dataframe tbody tr th {\n",
       "        vertical-align: top;\n",
       "    }\n",
       "\n",
       "    .dataframe thead th {\n",
       "        text-align: right;\n",
       "    }\n",
       "</style>\n",
       "<table border=\"1\" class=\"dataframe\">\n",
       "  <thead>\n",
       "    <tr style=\"text-align: right;\">\n",
       "      <th></th>\n",
       "      <th>Maquina</th>\n",
       "      <th>Fecha</th>\n",
       "      <th>Autor</th>\n",
       "    </tr>\n",
       "  </thead>\n",
       "  <tbody>\n",
       "    <tr>\n",
       "      <th>0</th>\n",
       "      <td>Matrix-Breakout: 2 Morpheus</td>\n",
       "      <td>11 Jul 2022</td>\n",
       "      <td>Jay Beale</td>\n",
       "    </tr>\n",
       "    <tr>\n",
       "      <th>1</th>\n",
       "      <td>Web Machine: (N7)</td>\n",
       "      <td>3 Nov 2021</td>\n",
       "      <td>Duty Mastr</td>\n",
       "    </tr>\n",
       "    <tr>\n",
       "      <th>2</th>\n",
       "      <td>The Planets: Earth</td>\n",
       "      <td>2 Nov 2021</td>\n",
       "      <td>SirFlash</td>\n",
       "    </tr>\n",
       "    <tr>\n",
       "      <th>3</th>\n",
       "      <td>Jangow: 1.0.1</td>\n",
       "      <td>4 Nov 2021</td>\n",
       "      <td>Jangow</td>\n",
       "    </tr>\n",
       "    <tr>\n",
       "      <th>4</th>\n",
       "      <td>Red: 1</td>\n",
       "      <td>27 Oct 2021</td>\n",
       "      <td>hadrian3689</td>\n",
       "    </tr>\n",
       "    <tr>\n",
       "      <th>...</th>\n",
       "      <td>...</td>\n",
       "      <td>...</td>\n",
       "      <td>...</td>\n",
       "    </tr>\n",
       "    <tr>\n",
       "      <th>235</th>\n",
       "      <td>eLection: 1</td>\n",
       "      <td>2 Jul 2020</td>\n",
       "      <td>Love</td>\n",
       "    </tr>\n",
       "    <tr>\n",
       "      <th>236</th>\n",
       "      <td>Panabee: 1</td>\n",
       "      <td>30 Jun 2020</td>\n",
       "      <td>ch4rm</td>\n",
       "    </tr>\n",
       "    <tr>\n",
       "      <th>237</th>\n",
       "      <td>Vegeta: 1</td>\n",
       "      <td>28 Jun 2020</td>\n",
       "      <td>Hawks Team</td>\n",
       "    </tr>\n",
       "    <tr>\n",
       "      <th>238</th>\n",
       "      <td>Presidential: 1</td>\n",
       "      <td>28 Jun 2020</td>\n",
       "      <td>Thomas Williams</td>\n",
       "    </tr>\n",
       "    <tr>\n",
       "      <th>239</th>\n",
       "      <td>sunset: solstice</td>\n",
       "      <td>26 Jun 2020</td>\n",
       "      <td>whitecr0wz</td>\n",
       "    </tr>\n",
       "  </tbody>\n",
       "</table>\n",
       "<p>240 rows × 3 columns</p>\n",
       "</div>"
      ],
      "text/plain": [
       "                         Maquina        Fecha            Autor\n",
       "0    Matrix-Breakout: 2 Morpheus  11 Jul 2022        Jay Beale\n",
       "1              Web Machine: (N7)   3 Nov 2021       Duty Mastr\n",
       "2             The Planets: Earth   2 Nov 2021         SirFlash\n",
       "3                  Jangow: 1.0.1   4 Nov 2021           Jangow\n",
       "4                         Red: 1  27 Oct 2021      hadrian3689\n",
       "..                           ...          ...              ...\n",
       "235                  eLection: 1   2 Jul 2020             Love\n",
       "236                   Panabee: 1  30 Jun 2020            ch4rm\n",
       "237                    Vegeta: 1  28 Jun 2020       Hawks Team\n",
       "238              Presidential: 1  28 Jun 2020  Thomas Williams\n",
       "239             sunset: solstice  26 Jun 2020       whitecr0wz\n",
       "\n",
       "[240 rows x 3 columns]"
      ]
     },
     "execution_count": 55,
     "metadata": {},
     "output_type": "execute_result"
    }
   ],
   "source": [
    "# ------------------------------------------------------------------------\n",
    "base_url = 'https://www.vulnhub.com/?page='\n",
    "# Recorrer las páginas\n",
    "fechas=[]\n",
    "titulo=[]\n",
    "autor=[]\n",
    "for pagina in range(1, 21):\n",
    "    # Obtener el contenido de la página\n",
    "    url_pagina = base_url + str(pagina)\n",
    "    resultado = requests.get(url_pagina)\n",
    "    content = resultado.text\n",
    "    # Crear un objeto BeautifulSoup\n",
    "    soup = BeautifulSoup(content, 'html.parser')\n",
    "    card_dates=soup.find_all('div',class_='card-date')\n",
    "    card_titles=soup.find_all('div',class_='card-title')\n",
    "    card_autors=soup.find_all('div',class_='card-author')\n",
    "    for card_date in card_dates:\n",
    "        fecha_texto=card_date.a.get_text(strip=True)\n",
    "        fechas.append(fecha_texto)\n",
    "    for card_title in card_titles:\n",
    "        titulo_texto=card_title.a.get_text(strip=True)\n",
    "        titulo.append(titulo_texto)\n",
    "    for card_autor in card_autors:\n",
    "        autor_texto=card_autor.a.get_text(strip=True)\n",
    "        autor.append(autor_texto)\n",
    "        \n",
    "# Crear DataFrame con los datos\n",
    "data_new = {'Maquina': titulo, 'Fecha': fechas, 'Autor':autor}\n",
    "df = pd.DataFrame(data_new)\n",
    "df"
   ]
  },
  {
   "cell_type": "code",
   "execution_count": 56,
   "metadata": {},
   "outputs": [
    {
     "name": "stdout",
     "output_type": "stream",
     "text": [
      "                         Maquina        Fecha            Autor\n",
      "0    Matrix-Breakout: 2 Morpheus  11 Jul 2022        Jay Beale\n",
      "1              Web Machine: (N7)   3 Nov 2021       Duty Mastr\n",
      "2             The Planets: Earth   2 Nov 2021         SirFlash\n",
      "3                  Jangow: 1.0.1   4 Nov 2021           Jangow\n",
      "4                         Red: 1  27 Oct 2021      hadrian3689\n",
      "..                           ...          ...              ...\n",
      "235                  eLection: 1   2 Jul 2020             Love\n",
      "236                   Panabee: 1  30 Jun 2020            ch4rm\n",
      "237                    Vegeta: 1  28 Jun 2020       Hawks Team\n",
      "238              Presidential: 1  28 Jun 2020  Thomas Williams\n",
      "239             sunset: solstice  26 Jun 2020       whitecr0wz\n",
      "\n",
      "[240 rows x 3 columns]\n"
     ]
    }
   ],
   "source": [
    "import requests\n",
    "from bs4 import BeautifulSoup\n",
    "import pandas as pd\n",
    "\n",
    "# URL base y listas para almacenar fechas y títulos\n",
    "base_url = 'https://www.vulnhub.com/?page='\n",
    "fechas = []\n",
    "titulos = []\n",
    "autor=[]\n",
    "\n",
    "# Recorrer las páginas\n",
    "for pagina in range(1, 21):\n",
    "    # Obtener el contenido de la página\n",
    "    url_pagina = base_url + str(pagina)\n",
    "    resultado = requests.get(url_pagina)\n",
    "    content = resultado.text\n",
    "    \n",
    "    # Crear un objeto BeautifulSoup\n",
    "    soup = BeautifulSoup(content, 'html.parser')\n",
    "    \n",
    "    # Encontrar todas las tarjetas de fecha y título\n",
    "    card_dates = soup.find_all('div', class_='card-date')\n",
    "    card_titles = soup.find_all('div', class_='card-title')\n",
    "    card_autors=soup.find_all('div',class_='card-author')\n",
    "    \n",
    "    # Iterar sobre las tarjetas y obtener fechas y títulos\n",
    "    for card_date, card_title,card_autor in zip(card_dates, card_titles, card_autors):\n",
    "        # Obtener texto de fecha y título\n",
    "        fecha_texto = card_date.a.get_text(strip=True)\n",
    "        titulo_texto = card_title.a.get_text(strip=True)\n",
    "        autor_texto = card_autor.a.get_text(strip=True)\n",
    "        # Agregar a las listas correspondientes\n",
    "        fechas.append(fecha_texto)\n",
    "        titulos.append(titulo_texto)\n",
    "        autor.append(autor_texto)\n",
    "\n",
    "# Crear DataFrame con los datos\n",
    "data = {'Maquina': titulos, 'Fecha': fechas, 'Autor':autor}\n",
    "df = pd.DataFrame(data)\n",
    "\n",
    "print(df)\n"
   ]
  }
 ],
 "metadata": {
  "kernelspec": {
   "display_name": "Python 3",
   "language": "python",
   "name": "python3"
  },
  "language_info": {
   "codemirror_mode": {
    "name": "ipython",
    "version": 3
   },
   "file_extension": ".py",
   "mimetype": "text/x-python",
   "name": "python",
   "nbconvert_exporter": "python",
   "pygments_lexer": "ipython3",
   "version": "3.12.1"
  }
 },
 "nbformat": 4,
 "nbformat_minor": 2
}
